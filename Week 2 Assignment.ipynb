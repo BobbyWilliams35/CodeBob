{
 "cells": [
  {
   "cell_type": "markdown",
   "metadata": {},
   "source": [
    "# IS 362 Robert Williams Week 2 Assignment\n",
    "\n",
    "The Data structures that you might find somewhat challenging is ***zip() function***. \n",
    "\n",
    "Here is a explain of zip function"
   ]
  },
  {
   "cell_type": "code",
   "execution_count": 8,
   "metadata": {
    "scrolled": true
   },
   "outputs": [
    {
     "name": "stdout",
     "output_type": "stream",
     "text": [
      "1 a Sunday\n",
      "2 b Monday\n",
      "3 c Tuesday\n",
      "4 d Thursday\n",
      "5 e Friday\n"
     ]
    }
   ],
   "source": [
    "list1 = [1, 2, 3, 4, 5]\n",
    "list2 = ['a', 'b', 'c', 'd', 'e']\n",
    "list3 = ['Sunday', 'Monday', 'Tuesday', 'Thursday', 'Friday']\n",
    " \n",
    "zip_result = zip(list1, list2, list3)\n",
    " \n",
    "for x, y, z in zip_result:\n",
    "    print(x, y, z)"
   ]
  },
  {
   "cell_type": "markdown",
   "metadata": {},
   "source": [
    "***Zip functions*** can only work if all the lists is line up correctly. If one functions is off the code will not work. Bigger codes can cause problems and confusion."
   ]
  },
  {
   "cell_type": "code",
   "execution_count": null,
   "metadata": {},
   "outputs": [],
   "source": []
  }
 ],
 "metadata": {
  "kernelspec": {
   "display_name": "Python 3",
   "language": "python",
   "name": "python3"
  },
  "language_info": {
   "codemirror_mode": {
    "name": "ipython",
    "version": 3
   },
   "file_extension": ".py",
   "mimetype": "text/x-python",
   "name": "python",
   "nbconvert_exporter": "python",
   "pygments_lexer": "ipython3",
   "version": "3.7.4"
  },
  "widgets": {
   "application/vnd.jupyter.widget-state+json": {
    "state": {},
    "version_major": 2,
    "version_minor": 0
   }
  }
 },
 "nbformat": 4,
 "nbformat_minor": 2
}
