{
 "cells": [
  {
   "cell_type": "markdown",
   "metadata": {},
   "source": [
    "# Robert Wiliams IS 362 Week 3 Project 1"
   ]
  },
  {
   "cell_type": "code",
   "execution_count": 1,
   "metadata": {},
   "outputs": [
    {
     "data": {
      "text/plain": [
       "'/Users/bobby/Desktop/Robert IS362 Project 1'"
      ]
     },
     "execution_count": 1,
     "metadata": {},
     "output_type": "execute_result"
    }
   ],
   "source": [
    "pwd"
   ]
  },
  {
   "cell_type": "markdown",
   "metadata": {},
   "source": [
    "Using pwd to local the CVS file"
   ]
  },
  {
   "cell_type": "code",
   "execution_count": 2,
   "metadata": {},
   "outputs": [],
   "source": [
    "import pandas as pd\n",
    "pd.options.display.float_format = '{:,.2f}'.format\n",
    "flightinfo = pd.read_csv('/Users/bobby/Desktop/Robert IS362 Project 1/flightinfo.csv')"
   ]
  },
  {
   "cell_type": "markdown",
   "metadata": {},
   "source": [
    "Adding CVS file to the code"
   ]
  },
  {
   "cell_type": "code",
   "execution_count": 3,
   "metadata": {
    "scrolled": true
   },
   "outputs": [
    {
     "data": {
      "text/html": [
       "<div>\n",
       "<style scoped>\n",
       "    .dataframe tbody tr th:only-of-type {\n",
       "        vertical-align: middle;\n",
       "    }\n",
       "\n",
       "    .dataframe tbody tr th {\n",
       "        vertical-align: top;\n",
       "    }\n",
       "\n",
       "    .dataframe thead th {\n",
       "        text-align: right;\n",
       "    }\n",
       "</style>\n",
       "<table border=\"1\" class=\"dataframe\">\n",
       "  <thead>\n",
       "    <tr style=\"text-align: right;\">\n",
       "      <th></th>\n",
       "      <th>ArrivalCity</th>\n",
       "      <th>AlaskaOnTime</th>\n",
       "      <th>AlaskaDelayed</th>\n",
       "      <th>AMWestOnTime</th>\n",
       "      <th>AMWestDelayed</th>\n",
       "    </tr>\n",
       "  </thead>\n",
       "  <tbody>\n",
       "    <tr>\n",
       "      <td>0</td>\n",
       "      <td>Los Angeles</td>\n",
       "      <td>497</td>\n",
       "      <td>62</td>\n",
       "      <td>694</td>\n",
       "      <td>117</td>\n",
       "    </tr>\n",
       "    <tr>\n",
       "      <td>1</td>\n",
       "      <td>Phoenix</td>\n",
       "      <td>221</td>\n",
       "      <td>12</td>\n",
       "      <td>4840</td>\n",
       "      <td>415</td>\n",
       "    </tr>\n",
       "    <tr>\n",
       "      <td>2</td>\n",
       "      <td>San Diego</td>\n",
       "      <td>212</td>\n",
       "      <td>20</td>\n",
       "      <td>383</td>\n",
       "      <td>65</td>\n",
       "    </tr>\n",
       "    <tr>\n",
       "      <td>3</td>\n",
       "      <td>San Francisco</td>\n",
       "      <td>503</td>\n",
       "      <td>102</td>\n",
       "      <td>320</td>\n",
       "      <td>129</td>\n",
       "    </tr>\n",
       "    <tr>\n",
       "      <td>4</td>\n",
       "      <td>Seattle</td>\n",
       "      <td>1841</td>\n",
       "      <td>305</td>\n",
       "      <td>201</td>\n",
       "      <td>61</td>\n",
       "    </tr>\n",
       "  </tbody>\n",
       "</table>\n",
       "</div>"
      ],
      "text/plain": [
       "     ArrivalCity  AlaskaOnTime  AlaskaDelayed  AMWestOnTime  AMWestDelayed\n",
       "0    Los Angeles           497             62           694            117\n",
       "1        Phoenix           221             12          4840            415\n",
       "2      San Diego           212             20           383             65\n",
       "3  San Francisco           503            102           320            129\n",
       "4        Seattle          1841            305           201             61"
      ]
     },
     "execution_count": 3,
     "metadata": {},
     "output_type": "execute_result"
    }
   ],
   "source": [
    "flightinfo.head()"
   ]
  },
  {
   "cell_type": "markdown",
   "metadata": {},
   "source": [
    "all the DATA of the cvs imported"
   ]
  },
  {
   "cell_type": "markdown",
   "metadata": {},
   "source": [
    "Adding two more columns to cvs file that will provide a total of flights to each city from each airline.\n"
   ]
  },
  {
   "cell_type": "markdown",
   "metadata": {},
   "source": [
    "\"AlaskaTotal\" is first "
   ]
  },
  {
   "cell_type": "code",
   "execution_count": null,
   "metadata": {},
   "outputs": [],
   "source": [
    "flightinfo.insert(3, 'AlaskaTotal', flightinfo.AlaskaOnTime + flightinfo.AlaskaDelayed)"
   ]
  },
  {
   "cell_type": "markdown",
   "metadata": {},
   "source": [
    "\n",
    "The next is\"AMWestTotal\"."
   ]
  },
  {
   "cell_type": "code",
   "execution_count": null,
   "metadata": {},
   "outputs": [],
   "source": [
    "flightinfo.insert(6, 'AMWestTotal', flightinfo.AMWestOnTime + flightinfo.AMWestDelayed)"
   ]
  },
  {
   "cell_type": "markdown",
   "metadata": {},
   "source": [
    " New tablet with the add columns"
   ]
  },
  {
   "cell_type": "code",
   "execution_count": 26,
   "metadata": {},
   "outputs": [
    {
     "data": {
      "text/html": [
       "<div>\n",
       "<style scoped>\n",
       "    .dataframe tbody tr th:only-of-type {\n",
       "        vertical-align: middle;\n",
       "    }\n",
       "\n",
       "    .dataframe tbody tr th {\n",
       "        vertical-align: top;\n",
       "    }\n",
       "\n",
       "    .dataframe thead th {\n",
       "        text-align: right;\n",
       "    }\n",
       "</style>\n",
       "<table border=\"1\" class=\"dataframe\">\n",
       "  <thead>\n",
       "    <tr style=\"text-align: right;\">\n",
       "      <th></th>\n",
       "      <th>ArrivalCity</th>\n",
       "      <th>AlaskaOnTime</th>\n",
       "      <th>AlaskaDelayed</th>\n",
       "      <th>AlaskaTotal</th>\n",
       "      <th>AMWestOnTime</th>\n",
       "      <th>AMWestDelayed</th>\n",
       "      <th>AMWestTotal</th>\n",
       "    </tr>\n",
       "  </thead>\n",
       "  <tbody>\n",
       "    <tr>\n",
       "      <td>0</td>\n",
       "      <td>Los Angeles</td>\n",
       "      <td>497</td>\n",
       "      <td>62</td>\n",
       "      <td>559</td>\n",
       "      <td>694</td>\n",
       "      <td>117</td>\n",
       "      <td>811</td>\n",
       "    </tr>\n",
       "    <tr>\n",
       "      <td>1</td>\n",
       "      <td>Phoenix</td>\n",
       "      <td>221</td>\n",
       "      <td>12</td>\n",
       "      <td>233</td>\n",
       "      <td>4840</td>\n",
       "      <td>415</td>\n",
       "      <td>5255</td>\n",
       "    </tr>\n",
       "    <tr>\n",
       "      <td>2</td>\n",
       "      <td>San Diego</td>\n",
       "      <td>212</td>\n",
       "      <td>20</td>\n",
       "      <td>232</td>\n",
       "      <td>383</td>\n",
       "      <td>65</td>\n",
       "      <td>448</td>\n",
       "    </tr>\n",
       "    <tr>\n",
       "      <td>3</td>\n",
       "      <td>San Francisco</td>\n",
       "      <td>503</td>\n",
       "      <td>102</td>\n",
       "      <td>605</td>\n",
       "      <td>320</td>\n",
       "      <td>129</td>\n",
       "      <td>449</td>\n",
       "    </tr>\n",
       "    <tr>\n",
       "      <td>4</td>\n",
       "      <td>Seattle</td>\n",
       "      <td>1841</td>\n",
       "      <td>305</td>\n",
       "      <td>2146</td>\n",
       "      <td>201</td>\n",
       "      <td>61</td>\n",
       "      <td>262</td>\n",
       "    </tr>\n",
       "  </tbody>\n",
       "</table>\n",
       "</div>"
      ],
      "text/plain": [
       "     ArrivalCity  AlaskaOnTime  AlaskaDelayed  AlaskaTotal  AMWestOnTime  \\\n",
       "0    Los Angeles           497             62          559           694   \n",
       "1        Phoenix           221             12          233          4840   \n",
       "2      San Diego           212             20          232           383   \n",
       "3  San Francisco           503            102          605           320   \n",
       "4        Seattle          1841            305         2146           201   \n",
       "\n",
       "   AMWestDelayed  AMWestTotal  \n",
       "0            117          811  \n",
       "1            415         5255  \n",
       "2             65          448  \n",
       "3            129          449  \n",
       "4             61          262  "
      ]
     },
     "execution_count": 26,
     "metadata": {},
     "output_type": "execute_result"
    }
   ],
   "source": [
    "flightinfo"
   ]
  },
  {
   "cell_type": "markdown",
   "metadata": {},
   "source": [
    "Maaking new two new columns to add the delay Percentages"
   ]
  },
  {
   "cell_type": "markdown",
   "metadata": {},
   "source": [
    "First is \"AlaskaPercentage\""
   ]
  },
  {
   "cell_type": "code",
   "execution_count": 28,
   "metadata": {},
   "outputs": [],
   "source": [
    "flightinfo.insert(4, 'AlaskaPercentage', (flightinfo.AlaskaDelayed / flightinfo.AlaskaTotal) * 100)"
   ]
  },
  {
   "cell_type": "markdown",
   "metadata": {},
   "source": [
    "Second is \"AMWestPercentage\"."
   ]
  },
  {
   "cell_type": "code",
   "execution_count": 29,
   "metadata": {},
   "outputs": [],
   "source": [
    "flightinfo.insert(8, 'AMWestPercentage', (flightinfo.AMWestDelayed / flightinfo.AMWestTotal) * 100)"
   ]
  },
  {
   "cell_type": "markdown",
   "metadata": {},
   "source": [
    "Here are the new calculations off the two added columns"
   ]
  },
  {
   "cell_type": "code",
   "execution_count": 33,
   "metadata": {},
   "outputs": [
    {
     "data": {
      "text/html": [
       "<div>\n",
       "<style scoped>\n",
       "    .dataframe tbody tr th:only-of-type {\n",
       "        vertical-align: middle;\n",
       "    }\n",
       "\n",
       "    .dataframe tbody tr th {\n",
       "        vertical-align: top;\n",
       "    }\n",
       "\n",
       "    .dataframe thead th {\n",
       "        text-align: right;\n",
       "    }\n",
       "</style>\n",
       "<table border=\"1\" class=\"dataframe\">\n",
       "  <thead>\n",
       "    <tr style=\"text-align: right;\">\n",
       "      <th></th>\n",
       "      <th>ArrivalCity</th>\n",
       "      <th>AlaskaOnTime</th>\n",
       "      <th>AlaskaDelayed</th>\n",
       "      <th>AlaskaTotal</th>\n",
       "      <th>AlaskaPercentage</th>\n",
       "      <th>AMWestOnTime</th>\n",
       "      <th>AMWestDelayed</th>\n",
       "      <th>AMWestTotal</th>\n",
       "      <th>AMWestPercentage</th>\n",
       "    </tr>\n",
       "  </thead>\n",
       "  <tbody>\n",
       "    <tr>\n",
       "      <td>0</td>\n",
       "      <td>Los Angeles</td>\n",
       "      <td>497</td>\n",
       "      <td>62</td>\n",
       "      <td>559</td>\n",
       "      <td>11.09</td>\n",
       "      <td>694</td>\n",
       "      <td>117</td>\n",
       "      <td>811</td>\n",
       "      <td>14.43</td>\n",
       "    </tr>\n",
       "    <tr>\n",
       "      <td>1</td>\n",
       "      <td>Phoenix</td>\n",
       "      <td>221</td>\n",
       "      <td>12</td>\n",
       "      <td>233</td>\n",
       "      <td>5.15</td>\n",
       "      <td>4840</td>\n",
       "      <td>415</td>\n",
       "      <td>5255</td>\n",
       "      <td>7.90</td>\n",
       "    </tr>\n",
       "    <tr>\n",
       "      <td>2</td>\n",
       "      <td>San Diego</td>\n",
       "      <td>212</td>\n",
       "      <td>20</td>\n",
       "      <td>232</td>\n",
       "      <td>8.62</td>\n",
       "      <td>383</td>\n",
       "      <td>65</td>\n",
       "      <td>448</td>\n",
       "      <td>14.51</td>\n",
       "    </tr>\n",
       "    <tr>\n",
       "      <td>3</td>\n",
       "      <td>San Francisco</td>\n",
       "      <td>503</td>\n",
       "      <td>102</td>\n",
       "      <td>605</td>\n",
       "      <td>16.86</td>\n",
       "      <td>320</td>\n",
       "      <td>129</td>\n",
       "      <td>449</td>\n",
       "      <td>28.73</td>\n",
       "    </tr>\n",
       "    <tr>\n",
       "      <td>4</td>\n",
       "      <td>Seattle</td>\n",
       "      <td>1841</td>\n",
       "      <td>305</td>\n",
       "      <td>2146</td>\n",
       "      <td>14.21</td>\n",
       "      <td>201</td>\n",
       "      <td>61</td>\n",
       "      <td>262</td>\n",
       "      <td>23.28</td>\n",
       "    </tr>\n",
       "  </tbody>\n",
       "</table>\n",
       "</div>"
      ],
      "text/plain": [
       "     ArrivalCity  AlaskaOnTime  AlaskaDelayed  AlaskaTotal  AlaskaPercentage  \\\n",
       "0    Los Angeles           497             62          559             11.09   \n",
       "1        Phoenix           221             12          233              5.15   \n",
       "2      San Diego           212             20          232              8.62   \n",
       "3  San Francisco           503            102          605             16.86   \n",
       "4        Seattle          1841            305         2146             14.21   \n",
       "\n",
       "   AMWestOnTime  AMWestDelayed  AMWestTotal  AMWestPercentage  \n",
       "0           694            117          811             14.43  \n",
       "1          4840            415         5255              7.90  \n",
       "2           383             65          448             14.51  \n",
       "3           320            129          449             28.73  \n",
       "4           201             61          262             23.28  "
      ]
     },
     "execution_count": 33,
     "metadata": {},
     "output_type": "execute_result"
    }
   ],
   "source": [
    "flightinfo"
   ]
  },
  {
   "cell_type": "markdown",
   "metadata": {},
   "source": [
    "\n",
    "Making a small table use to show the delay percentages of Alaska and AM West to make my Conclusion "
   ]
  },
  {
   "cell_type": "code",
   "execution_count": 32,
   "metadata": {},
   "outputs": [
    {
     "data": {
      "text/html": [
       "<div>\n",
       "<style scoped>\n",
       "    .dataframe tbody tr th:only-of-type {\n",
       "        vertical-align: middle;\n",
       "    }\n",
       "\n",
       "    .dataframe tbody tr th {\n",
       "        vertical-align: top;\n",
       "    }\n",
       "\n",
       "    .dataframe thead th {\n",
       "        text-align: right;\n",
       "    }\n",
       "</style>\n",
       "<table border=\"1\" class=\"dataframe\">\n",
       "  <thead>\n",
       "    <tr style=\"text-align: right;\">\n",
       "      <th></th>\n",
       "      <th>ArrivalCity</th>\n",
       "      <th>AlaskaPercentage</th>\n",
       "      <th>AMWestPercentage</th>\n",
       "    </tr>\n",
       "  </thead>\n",
       "  <tbody>\n",
       "    <tr>\n",
       "      <td>0</td>\n",
       "      <td>Los Angeles</td>\n",
       "      <td>11.09</td>\n",
       "      <td>14.43</td>\n",
       "    </tr>\n",
       "    <tr>\n",
       "      <td>1</td>\n",
       "      <td>Phoenix</td>\n",
       "      <td>5.15</td>\n",
       "      <td>7.90</td>\n",
       "    </tr>\n",
       "    <tr>\n",
       "      <td>2</td>\n",
       "      <td>San Diego</td>\n",
       "      <td>8.62</td>\n",
       "      <td>14.51</td>\n",
       "    </tr>\n",
       "    <tr>\n",
       "      <td>3</td>\n",
       "      <td>San Francisco</td>\n",
       "      <td>16.86</td>\n",
       "      <td>28.73</td>\n",
       "    </tr>\n",
       "    <tr>\n",
       "      <td>4</td>\n",
       "      <td>Seattle</td>\n",
       "      <td>14.21</td>\n",
       "      <td>23.28</td>\n",
       "    </tr>\n",
       "  </tbody>\n",
       "</table>\n",
       "</div>"
      ],
      "text/plain": [
       "     ArrivalCity  AlaskaPercentage  AMWestPercentage\n",
       "0    Los Angeles             11.09             14.43\n",
       "1        Phoenix              5.15              7.90\n",
       "2      San Diego              8.62             14.51\n",
       "3  San Francisco             16.86             28.73\n",
       "4        Seattle             14.21             23.28"
      ]
     },
     "execution_count": 32,
     "metadata": {},
     "output_type": "execute_result"
    }
   ],
   "source": [
    "delayrates = flightinfo[['ArrivalCity', 'AlaskaPercentage', 'AMWestPercentage']]\n",
    "delayrates\n"
   ]
  },
  {
   "cell_type": "markdown",
   "metadata": {},
   "source": [
    " Conclusion AM West Airlines has a higher percentage than Alaska Airlines of arrival delays When comparing the two."
   ]
  },
  {
   "cell_type": "code",
   "execution_count": null,
   "metadata": {},
   "outputs": [],
   "source": []
  }
 ],
 "metadata": {
  "kernelspec": {
   "display_name": "Python 3",
   "language": "python",
   "name": "python3"
  },
  "language_info": {
   "codemirror_mode": {
    "name": "ipython",
    "version": 3
   },
   "file_extension": ".py",
   "mimetype": "text/x-python",
   "name": "python",
   "nbconvert_exporter": "python",
   "pygments_lexer": "ipython3",
   "version": "3.7.4"
  }
 },
 "nbformat": 4,
 "nbformat_minor": 2
}
