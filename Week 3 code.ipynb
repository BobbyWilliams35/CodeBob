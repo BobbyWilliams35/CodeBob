{
 "cells": [
  {
   "cell_type": "markdown",
   "metadata": {},
   "source": [
    "Robert Williams\n",
    "IS 362 week 3 Assignment\n",
    "\n",
    "Suppose you have ridden a bicycle from New York City to Key West, Florida. Your bicycle odometer shows the total miles, which you have dutifully logged at the end of each day with paper and pencil. Your first two entries might be 55 and 120, indicating that you rode your bike 55 miles on day 1 and 65 miles on day 2. Your task is to create a pandas Series object that holds the cumulative miles at the end of each day, then use your Python skills to show the total miles that you rode each day. \n"
   ]
  },
  {
   "cell_type": "code",
   "execution_count": 4,
   "metadata": {},
   "outputs": [],
   "source": [
    "import pandas as pd\n",
    "from pprint import pprint"
   ]
  },
  {
   "cell_type": "markdown",
   "metadata": {},
   "source": [
    "**Using google maps taking a bike From Key West to New York is about 1519 miles**"
   ]
  },
  {
   "cell_type": "markdown",
   "metadata": {},
   "source": [
    "\n",
    "**The dutifully Bicyele log at the end of the day**\n",
    "The bicycle each day with paper and pencil odometer recorded and stored as a dictionary\n"
   ]
  },
  {
   "cell_type": "code",
   "execution_count": 18,
   "metadata": {
    "scrolled": true
   },
   "outputs": [
    {
     "name": "stdout",
     "output_type": "stream",
     "text": [
      "{'Day 1': 55,\n",
      " 'Day 2': 120,\n",
      " 'Day 3': 263,\n",
      " 'Day 4': 218,\n",
      " 'Day 5': 267,\n",
      " 'Day 6': 299,\n",
      " 'Day 7': 248,\n",
      " 'Day 8': 70}\n"
     ]
    }
   ],
   "source": [
    "bicycle_odometer = {}\n",
    "bicycle_odometer['Day 1'] = 55\n",
    "bicycle_odometer['Day 2'] = 120\n",
    "bicycle_odometer['Day 3'] = 263\n",
    "bicycle_odometer['Day 4'] = 218\n",
    "bicycle_odometer['Day 5'] = 267\n",
    "bicycle_odometer['Day 6'] = 299\n",
    "bicycle_odometer['Day 7'] = 248\n",
    "bicycle_odometer['Day 8'] = 70\n",
    "pprint (bicycle_odometer)"
   ]
  },
  {
   "cell_type": "markdown",
   "metadata": {},
   "source": [
    "**Panda core series**"
   ]
  },
  {
   "cell_type": "code",
   "execution_count": 22,
   "metadata": {},
   "outputs": [
    {
     "name": "stdout",
     "output_type": "stream",
     "text": [
      "<class 'pandas.core.series.Series'>\n"
     ]
    },
    {
     "data": {
      "text/plain": [
       "Day 1     55\n",
       "Day 2    120\n",
       "Day 3    263\n",
       "Day 4    218\n",
       "Day 5    267\n",
       "Day 6    299\n",
       "Day 7    248\n",
       "Day 8     70\n",
       "dtype: int64"
      ]
     },
     "execution_count": 22,
     "metadata": {},
     "output_type": "execute_result"
    }
   ],
   "source": [
    "bicycle_odometer = pd.Series(bicycle_odometer)\n",
    "print (type(bicycle_odometer))\n",
    "bicycle_odometer"
   ]
  },
  {
   "cell_type": "markdown",
   "metadata": {},
   "source": [
    "** It will take me 8 days to ride 1519 miles to New York**"
   ]
  }
 ],
 "metadata": {
  "kernelspec": {
   "display_name": "Python 3",
   "language": "python",
   "name": "python3"
  },
  "language_info": {
   "codemirror_mode": {
    "name": "ipython",
    "version": 3
   },
   "file_extension": ".py",
   "mimetype": "text/x-python",
   "name": "python",
   "nbconvert_exporter": "python",
   "pygments_lexer": "ipython3",
   "version": "3.7.4"
  }
 },
 "nbformat": 4,
 "nbformat_minor": 2
}
